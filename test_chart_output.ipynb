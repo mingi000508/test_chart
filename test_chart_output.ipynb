{
 "cells": [
  {
   "cell_type": "code",
   "execution_count": 11,
   "metadata": {},
   "outputs": [],
   "source": [
    "# import modules\n",
    "import os\n",
    "import re\n",
    "\n",
    "os.environ[\"CUDA_VISIBLE_DEVICES\"] = \"0\"\n",
    "\n",
    "from PIL import Image\n",
    "from tqdm import tqdm\n",
    "import matplotlib.pyplot as plt\n",
    "import json\n",
    "import pandas as pd"
   ]
  },
  {
   "cell_type": "code",
   "execution_count": 12,
   "metadata": {},
   "outputs": [],
   "source": [
    "saved_file = \"/home/mingi/data/chartgemma/one_by_one_results/horizontal.jsonl\""
   ]
  },
  {
   "cell_type": "code",
   "execution_count": 13,
   "metadata": {},
   "outputs": [],
   "source": [
    "files = [json.loads(line) for line in open(saved_file, \"r\")]"
   ]
  },
  {
   "cell_type": "code",
   "execution_count": 14,
   "metadata": {},
   "outputs": [
    {
     "data": {
      "text/plain": [
       "{'image_file': '5670.png',\n",
       " 'text': ['The value of 2019 is 1,800 GBP per metric ton.',\n",
       "  'The value of 2018 is 1450.',\n",
       "  'The value of 2017 is 1,500.',\n",
       "  'The price in 2016 is approximately 1,300 GBP per metric ton.',\n",
       "  'The value of 2015 is approximately 1,300 GBP per metric ton.',\n",
       "  'The value of 2014** is 1,600 GBP per metric ton.',\n",
       "  'The value of 2013 is 1,600 GBP per metric ton.',\n",
       "  'The value of 2012 is 1,400 GBP per metric ton.',\n",
       "  '2011 = 350',\n",
       "  'The value of 2010 is approximately 1,400 GBP per metric ton.',\n",
       "  'The price in 2009 is approximately 1,400 GBP per metric ton.'],\n",
       " 'value_list': [1518.2,\n",
       "  1500.7,\n",
       "  1600.8,\n",
       "  1316.0,\n",
       "  1357.0,\n",
       "  1595.1,\n",
       "  1651.5,\n",
       "  1501.9,\n",
       "  1447.4,\n",
       "  1418.0,\n",
       "  1457.9]}"
      ]
     },
     "execution_count": 14,
     "metadata": {},
     "output_type": "execute_result"
    }
   ],
   "source": [
    "files[150][\"text\"]\n",
    "# files[150][\"value_list\"]\n",
    "files[140]"
   ]
  },
  {
   "cell_type": "code",
   "execution_count": 15,
   "metadata": {},
   "outputs": [],
   "source": [
    "# from pprint import pprint\n",
    "\n",
    "# i = 105\n",
    "# DIRECTION = \"vertical\"\n",
    "# saved_file = f\"/home/mingi/data/chartgemma/one_by_one_results/{DIRECTION}.jsonl\"\n",
    "# files = [json.loads(line) for line in open(saved_file, \"r\")]\n",
    "# image = Image.open(\n",
    "#     os.path.join(\n",
    "#         f\"/home/mingi/data/vistext/data/test_images/{DIRECTION}\", files[i][\"image_file\"]\n",
    "#     )\n",
    "# ).convert(\"RGB\")\n",
    "\n",
    "# plt.imshow(image)\n",
    "# plt.plot()\n",
    "# pprint(files[i][\"image_file\"])\n",
    "# pprint(files[i][\"text\"])\n",
    "# pprint(files[i][\"value_list\"])"
   ]
  },
  {
   "cell_type": "code",
   "execution_count": 16,
   "metadata": {},
   "outputs": [],
   "source": [
    "def extract_last_number(strings):\n",
    "    result = []\n",
    "    for string in strings:\n",
    "        if (\n",
    "            \"not\" in string.lower()\n",
    "            or \"no\" in string.lower()\n",
    "            or \"Please\" in string.lower()\n",
    "            or \"What\" in string.lower()\n",
    "        ):\n",
    "            result.append(0)\n",
    "        else:\n",
    "            # Find all numbers (including negative numbers) in the string\n",
    "            # numbers = re.findall(r\"-?\\d{1,3}(?:,\\d{3})*(?:\\.\\d+)?\", string)\n",
    "            numbers = re.findall(r\"-?\\d+(?:,\\d{3})*(?:\\.\\d+)?\", string)\n",
    "            numbers = [\n",
    "                num for num in numbers if len(num.replace(\",\", \"\").split(\".\")[0]) <= 10\n",
    "            ]\n",
    "            if numbers:\n",
    "                # Convert the last found number to an appropriate type (int or float) and add to the result\n",
    "                last_number_str = numbers[-1].replace(\",\", \"\")\n",
    "                last_number = (\n",
    "                    float(last_number_str)\n",
    "                    if \".\" in last_number_str\n",
    "                    else int(last_number_str)\n",
    "                )\n",
    "                result.append(last_number)\n",
    "            else:\n",
    "                result.append(0)  # If no numbers found, return 0\n",
    "    return result"
   ]
  },
  {
   "cell_type": "code",
   "execution_count": 17,
   "metadata": {},
   "outputs": [
    {
     "data": {
      "text/plain": [
       "[1800, 1450, 1500, 1300, 1300, 1600, 1600, 1400, 350, 1400, 1400]"
      ]
     },
     "execution_count": 17,
     "metadata": {},
     "output_type": "execute_result"
    }
   ],
   "source": [
    "extract_last_number(files[140][\"text\"])"
   ]
  },
  {
   "cell_type": "code",
   "execution_count": 18,
   "metadata": {},
   "outputs": [],
   "source": [
    "def eval_metric(gt_values, values):\n",
    "\n",
    "    l = len(gt_values)\n",
    "    sum_error_rates = 0\n",
    "    for gt_value, value in zip(gt_values, values):\n",
    "        if isinstance(gt_value, str):\n",
    "            try:\n",
    "                gt_value = float(gt_value)\n",
    "            except ValueError:\n",
    "                gt_value = 0\n",
    "\n",
    "        error = abs(gt_value - value)\n",
    "\n",
    "        if gt_value == 0:\n",
    "            l = l - 1\n",
    "            continue\n",
    "\n",
    "        error_rate = error / (abs(gt_value))\n",
    "        error_rate = min(error_rate, 1)\n",
    "        sum_error_rates = sum_error_rates + error_rate\n",
    "\n",
    "    avg_error_rates = sum_error_rates / l\n",
    "\n",
    "    return avg_error_rates"
   ]
  },
  {
   "cell_type": "code",
   "execution_count": 19,
   "metadata": {},
   "outputs": [],
   "source": [
    "# Evaluation\n",
    "sum = 0\n",
    "for file in files:\n",
    "    texts = file[\"text\"]\n",
    "\n",
    "    gt_values = file[\"value_list\"]\n",
    "    values = extract_last_number(texts)\n",
    "\n",
    "    metric = eval_metric(gt_values, values)\n",
    "\n",
    "    sum = sum + metric\n",
    "\n",
    "avg = sum / len(files)"
   ]
  },
  {
   "cell_type": "code",
   "execution_count": 20,
   "metadata": {},
   "outputs": [
    {
     "data": {
      "text/plain": [
       "0.41912798045963867"
      ]
     },
     "execution_count": 20,
     "metadata": {},
     "output_type": "execute_result"
    }
   ],
   "source": [
    "avg"
   ]
  },
  {
   "cell_type": "code",
   "execution_count": null,
   "metadata": {},
   "outputs": [],
   "source": []
  }
 ],
 "metadata": {
  "kernelspec": {
   "display_name": "tinyllava_factory",
   "language": "python",
   "name": "python3"
  },
  "language_info": {
   "codemirror_mode": {
    "name": "ipython",
    "version": 3
   },
   "file_extension": ".py",
   "mimetype": "text/x-python",
   "name": "python",
   "nbconvert_exporter": "python",
   "pygments_lexer": "ipython3",
   "version": "3.10.14"
  }
 },
 "nbformat": 4,
 "nbformat_minor": 2
}
