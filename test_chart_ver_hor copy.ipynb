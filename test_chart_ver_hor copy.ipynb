{
 "cells": [
  {
   "cell_type": "code",
   "execution_count": 1,
   "metadata": {},
   "outputs": [],
   "source": [
    "# import modules\n",
    "import os\n",
    "\n",
    "os.environ[\"CUDA_VISIBLE_DEVICES\"] = \"2\"\n",
    "\n",
    "from PIL import Image\n",
    "import requests\n",
    "from transformers import AutoProcessor, PaliGemmaForConditionalGeneration\n",
    "import torch\n",
    "from tqdm import tqdm\n",
    "import matplotlib.pyplot as plt\n",
    "from torch.utils.data import Dataset, DataLoader\n",
    "import json"
   ]
  },
  {
   "cell_type": "code",
   "execution_count": 2,
   "metadata": {},
   "outputs": [],
   "source": [
    "image_folder = \"/home/mingi/data/vistext/data/test_images/horizontal\"\n",
    "question_prompt = \"Values in the chart: \"\n",
    "save_file = \"/home/mingi/data/chartgemma/results/horizontal.jsonl\""
   ]
  },
  {
   "cell_type": "code",
   "execution_count": 3,
   "metadata": {},
   "outputs": [],
   "source": [
    "# Custom dataset class\n",
    "class CustomDataset(Dataset):\n",
    "    def __init__(self, questions, image_folder, processor):\n",
    "        self.questions = questions\n",
    "        self.image_folder = image_folder\n",
    "        self.processor = processor\n",
    "        self.file_names = os.listdir(image_folder)\n",
    "\n",
    "    def __getitem__(self, index):\n",
    "        image_file = self.file_names[index]\n",
    "\n",
    "        image = Image.open(os.path.join(self.image_folder, image_file)).convert(\"RGB\")\n",
    "\n",
    "        inputs = self.processor(text=self.questions, images=image, return_tensors=\"pt\")\n",
    "        prompt_length = inputs[\"input_ids\"].shape[1]\n",
    "        inputs = {k: v.to(\"cuda\") for k, v in inputs.items()}\n",
    "\n",
    "        return inputs, prompt_length, image_file\n",
    "\n",
    "    def __len__(self):\n",
    "        return len(self.file_names)\n",
    "\n",
    "\n",
    "def collate_fn(batch):\n",
    "    inputs, prompt_length, image_file = zip(*batch)\n",
    "\n",
    "    return inputs, prompt_length, image_file\n",
    "\n",
    "\n",
    "def create_data_loader(\n",
    "    questions,\n",
    "    image_folder,\n",
    "    processor,\n",
    "    batch_size=1,\n",
    "    # num_workers=4,\n",
    "):\n",
    "    assert batch_size == 1, \"batch_size must be 1\"\n",
    "    dataset = CustomDataset(questions, image_folder, processor)\n",
    "    data_loader = DataLoader(\n",
    "        dataset,\n",
    "        batch_size=batch_size,\n",
    "        # num_workers=num_workers,\n",
    "        shuffle=False,\n",
    "        collate_fn=collate_fn,\n",
    "    )\n",
    "    return data_loader"
   ]
  },
  {
   "cell_type": "code",
   "execution_count": 4,
   "metadata": {},
   "outputs": [
    {
     "name": "stderr",
     "output_type": "stream",
     "text": [
      "/home/mingi/anaconda3/envs/tinyllava_factory/lib/python3.10/site-packages/transformers/models/paligemma/configuration_paligemma.py:137: FutureWarning: The `vocab_size` attribute is deprecated and will be removed in v4.44, Please use `text_config.vocab_size` instead.\n",
      "  warnings.warn(\n"
     ]
    },
    {
     "data": {
      "application/vnd.jupyter.widget-view+json": {
       "model_id": "0b309bd55dc042ebb48127aef5cc14be",
       "version_major": 2,
       "version_minor": 0
      },
      "text/plain": [
       "Loading checkpoint shards:   0%|          | 0/3 [00:00<?, ?it/s]"
      ]
     },
     "metadata": {},
     "output_type": "display_data"
    }
   ],
   "source": [
    "model = PaliGemmaForConditionalGeneration.from_pretrained(\n",
    "    \"ahmed-masry/chartgemma\", torch_dtype=torch.float16\n",
    ").cuda()\n",
    "processor = AutoProcessor.from_pretrained(\"ahmed-masry/chartgemma\")\n",
    "\n",
    "os.makedirs(os.path.dirname(save_file), exist_ok=True)\n",
    "ans_file = open(save_file, \"w\")\n",
    "\n",
    "data_loader = create_data_loader(\n",
    "    questions=question_prompt, image_folder=image_folder, processor=processor\n",
    ")"
   ]
  },
  {
   "cell_type": "code",
   "execution_count": 5,
   "metadata": {},
   "outputs": [
    {
     "name": "stderr",
     "output_type": "stream",
     "text": [
      "100%|██████████| 518/518 [1:08:29<00:00,  7.93s/it]\n"
     ]
    }
   ],
   "source": [
    "for inputs, prompt_length, image_file in tqdm(\n",
    "    data_loader, total=len(os.listdir(image_folder))\n",
    "):\n",
    "    inputs = inputs[0]\n",
    "    image_file = image_file[0]\n",
    "    prompt_length = prompt_length[0]\n",
    "    with torch.inference_mode():\n",
    "        generate_ids = model.generate(**inputs, num_beams=4, max_new_tokens=512)\n",
    "    output_text = processor.batch_decode(\n",
    "        generate_ids[:, prompt_length:],\n",
    "        skip_special_tokens=True,\n",
    "        clean_up_tokenization_spaces=False,\n",
    "    )[0]\n",
    "\n",
    "    ans_file.write(\n",
    "        json.dumps(\n",
    "            {\n",
    "                \"image_file\": image_file,\n",
    "                \"text\": output_text,\n",
    "            }\n",
    "        )\n",
    "        + \"\\n\"\n",
    "    )\n",
    "ans_file.close()"
   ]
  }
 ],
 "metadata": {
  "kernelspec": {
   "display_name": "tinyllava_factory",
   "language": "python",
   "name": "python3"
  },
  "language_info": {
   "codemirror_mode": {
    "name": "ipython",
    "version": 3
   },
   "file_extension": ".py",
   "mimetype": "text/x-python",
   "name": "python",
   "nbconvert_exporter": "python",
   "pygments_lexer": "ipython3",
   "version": "3.10.14"
  }
 },
 "nbformat": 4,
 "nbformat_minor": 2
}
