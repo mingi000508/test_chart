{
 "cells": [
  {
   "cell_type": "code",
   "execution_count": 1,
   "metadata": {},
   "outputs": [],
   "source": [
    "# import modules\n",
    "import os\n",
    "import re\n",
    "\n",
    "os.environ[\"CUDA_VISIBLE_DEVICES\"] = \"2\"\n",
    "\n",
    "from PIL import Image\n",
    "from tqdm import tqdm\n",
    "import matplotlib.pyplot as plt\n",
    "import json\n",
    "import pandas as pd"
   ]
  },
  {
   "cell_type": "code",
   "execution_count": 2,
   "metadata": {},
   "outputs": [],
   "source": [
    "saved_file = \"/home/mingi/data/chartgemma/one_by_one_results/vertical.jsonl\""
   ]
  },
  {
   "cell_type": "code",
   "execution_count": 3,
   "metadata": {},
   "outputs": [],
   "source": [
    "files = [json.loads(line) for line in open(saved_file, \"r\")]"
   ]
  },
  {
   "cell_type": "code",
   "execution_count": 16,
   "metadata": {},
   "outputs": [
    {
     "data": {
      "text/plain": [
       "[1.86, 2.03, 2.68, 0.28, -1.38, 1.84, 2.61, 1.77, 2.74, 2.45]"
      ]
     },
     "execution_count": 16,
     "metadata": {},
     "output_type": "execute_result"
    }
   ],
   "source": [
    "# 150\n",
    "image = Image.open(\n",
    "    os.path.join(\n",
    "        \"/home/mingi/data/vistext/data/test_images/vertical\", files[150][\"image_file\"]\n",
    "    )\n",
    ").convert(\"RGB\")\n",
    "plt.imshow(image)\n",
    "plt.plot()\n",
    "files[150][\"image_file\"]\n",
    "files[150][\"text\"]\n",
    "files[150][\"value_list\"]"
   ]
  },
  {
   "cell_type": "code",
   "execution_count": 15,
   "metadata": {},
   "outputs": [
    {
     "data": {
      "text/plain": [
       "['Earnings per share in Canadian dollars \\n(in Canadian dollars)',\n",
       " 'The value of 2018 is 1.8.',\n",
       " '2.5',\n",
       " 'The value of 2016 is 2.6 (in Canadian dollars).',\n",
       " 'Earnings per share in Canadian dollars 2015 = -0.1',\n",
       " 'The value of 2014 is -0.5.',\n",
       " 'The value of 2013 is 2.2.',\n",
       " 'The value of 2012 is 2.5',\n",
       " '2011 earns per share is 1.75 Canadian dollars.',\n",
       " '2.5']"
      ]
     },
     "execution_count": 15,
     "metadata": {},
     "output_type": "execute_result"
    }
   ],
   "source": [
    "files[150][\"text\"]\n",
    "# files[150][\"image_file\"]"
   ]
  },
  {
   "cell_type": "code",
   "execution_count": 6,
   "metadata": {},
   "outputs": [],
   "source": [
    "def extract_last_number(strings):\n",
    "    result = []\n",
    "    for string in strings:\n",
    "        if (\n",
    "            \"not\" in string.lower()\n",
    "            or \"no\" in string.lower()\n",
    "            or \"Please\" in string.lower()\n",
    "            or \"What\" in string.lower()\n",
    "        ):\n",
    "            result.append(0)\n",
    "        else:\n",
    "            # Find all numbers (including negative numbers) in the string\n",
    "            numbers = re.findall(r\"-?\\d{1,3}(?:,\\d{3})*(?:\\.\\d+)?\", string)\n",
    "\n",
    "            if numbers:\n",
    "                # Convert the last found number to an appropriate type (int or float) and add to the result\n",
    "                last_number_str = numbers[-1].replace(\",\", \"\")\n",
    "                last_number = (\n",
    "                    float(last_number_str)\n",
    "                    if \".\" in last_number_str\n",
    "                    else int(last_number_str)\n",
    "                )\n",
    "                result.append(last_number)\n",
    "            else:\n",
    "                result.append(0)  # If no numbers found, return 0\n",
    "    return result"
   ]
  },
  {
   "cell_type": "code",
   "execution_count": 7,
   "metadata": {},
   "outputs": [
    {
     "data": {
      "text/plain": [
       "[0, 1.8, 2.5, 2.6, -0.1, -0.5, 2.2, 2.5, 1.75, 2.5]"
      ]
     },
     "execution_count": 7,
     "metadata": {},
     "output_type": "execute_result"
    }
   ],
   "source": [
    "extract_last_number(files[150][\"text\"])"
   ]
  },
  {
   "cell_type": "code",
   "execution_count": 8,
   "metadata": {},
   "outputs": [],
   "source": [
    "def eval_metric(gt_values, values):\n",
    "\n",
    "    l = len(gt_values)\n",
    "    sum_error_rates = 0\n",
    "    for gt_value, value in zip(gt_values, values):\n",
    "        if isinstance(gt_value, str):\n",
    "            try:\n",
    "                gt_value = float(gt_value)\n",
    "            except ValueError:\n",
    "                gt_value = 0\n",
    "\n",
    "        error = abs(gt_value - value)\n",
    "\n",
    "        if gt_value == 0:\n",
    "            l = l - 1\n",
    "            continue\n",
    "\n",
    "        error_rate = error / (abs(gt_value))\n",
    "        error_rate = min(error_rate, 1)\n",
    "        sum_error_rates = sum_error_rates + error_rate\n",
    "\n",
    "    avg_error_rates = sum_error_rates / l\n",
    "\n",
    "    return avg_error_rates"
   ]
  },
  {
   "cell_type": "code",
   "execution_count": 9,
   "metadata": {},
   "outputs": [],
   "source": [
    "# Evaluation\n",
    "sum = 0\n",
    "for file in files:\n",
    "    texts = file[\"text\"]\n",
    "\n",
    "    gt_values = file[\"value_list\"]\n",
    "    values = extract_last_number(texts)\n",
    "\n",
    "    metric = eval_metric(gt_values, values)\n",
    "\n",
    "    sum = sum + metric\n",
    "\n",
    "avg = sum / len(files)"
   ]
  },
  {
   "cell_type": "code",
   "execution_count": 10,
   "metadata": {},
   "outputs": [
    {
     "data": {
      "text/plain": [
       "0.35459422027218973"
      ]
     },
     "execution_count": 10,
     "metadata": {},
     "output_type": "execute_result"
    }
   ],
   "source": [
    "avg"
   ]
  }
 ],
 "metadata": {
  "kernelspec": {
   "display_name": "tinyllava_factory",
   "language": "python",
   "name": "python3"
  },
  "language_info": {
   "codemirror_mode": {
    "name": "ipython",
    "version": 3
   },
   "file_extension": ".py",
   "mimetype": "text/x-python",
   "name": "python",
   "nbconvert_exporter": "python",
   "pygments_lexer": "ipython3",
   "version": "3.10.14"
  }
 },
 "nbformat": 4,
 "nbformat_minor": 2
}
