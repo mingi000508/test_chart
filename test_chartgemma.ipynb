{
 "cells": [
  {
   "cell_type": "code",
   "execution_count": 1,
   "metadata": {},
   "outputs": [],
   "source": [
    "# import modules\n",
    "import os\n",
    "\n",
    "os.environ[\"CUDA_VISIBLE_DEVICES\"] = \"1\"\n",
    "\n",
    "from PIL import Image\n",
    "import requests\n",
    "from transformers import AutoProcessor, PaliGemmaForConditionalGeneration\n",
    "import torch\n",
    "\n",
    "import matplotlib.pyplot as plt\n",
    "import re"
   ]
  },
  {
   "cell_type": "code",
   "execution_count": 2,
   "metadata": {},
   "outputs": [],
   "source": [
    "data_path = \"/home/mingi/data/vistext/data/test_images/vertical\"\n",
    "file_names = sorted(\n",
    "    os.listdir(data_path), key=lambda x: int(re.search(r\"\\d+\", x).group())\n",
    ")"
   ]
  },
  {
   "cell_type": "code",
   "execution_count": 3,
   "metadata": {},
   "outputs": [
    {
     "name": "stderr",
     "output_type": "stream",
     "text": [
      "/home/mingi/anaconda3/envs/tinyllava_factory/lib/python3.10/site-packages/transformers/models/paligemma/configuration_paligemma.py:137: FutureWarning: The `vocab_size` attribute is deprecated and will be removed in v4.44, Please use `text_config.vocab_size` instead.\n",
      "  warnings.warn(\n"
     ]
    },
    {
     "data": {
      "application/vnd.jupyter.widget-view+json": {
       "model_id": "7ae25100272f4b61a003b217328bbfeb",
       "version_major": 2,
       "version_minor": 0
      },
      "text/plain": [
       "Loading checkpoint shards:   0%|          | 0/3 [00:00<?, ?it/s]"
      ]
     },
     "metadata": {},
     "output_type": "display_data"
    }
   ],
   "source": [
    "model = PaliGemmaForConditionalGeneration.from_pretrained(\n",
    "    \"ahmed-masry/chartgemma\", torch_dtype=torch.float16\n",
    ").cuda()\n",
    "processor = AutoProcessor.from_pretrained(\"ahmed-masry/chartgemma\")\n",
    "# Format text inputs"
   ]
  },
  {
   "cell_type": "code",
   "execution_count": 17,
   "metadata": {},
   "outputs": [],
   "source": [
    "def inference_plot(model, processor, input_text, data_path, file_names, idx):\n",
    "\n",
    "    # Encode chart figure and tokenize text\n",
    "    image = Image.open(os.path.join(data_path, file_names[idx])).convert(\"RGB\")\n",
    "    inputs = processor(text=input_text, images=image, return_tensors=\"pt\")\n",
    "    prompt_length = inputs[\"input_ids\"].shape[1]\n",
    "    inputs = {k: v.to(\"cuda\") for k, v in inputs.items()}\n",
    "\n",
    "    # Generate\n",
    "    generate_ids = model.generate(**inputs, num_beams=4, max_new_tokens=512)\n",
    "    output_text = processor.batch_decode(\n",
    "        generate_ids[:, prompt_length:],\n",
    "        skip_special_tokens=True,\n",
    "        clean_up_tokenization_spaces=False,\n",
    "    )[0]\n",
    "    print(output_text)\n",
    "\n",
    "    plt.imshow(image)\n",
    "    plt.axis(\"off\")\n",
    "    plt.show()\n",
    "\n",
    "\n",
    "def inference_plot2(model, processor, input_text, data_path, image_name):\n",
    "    path = \"/home/mingi/data/test_charts/img\"\n",
    "\n",
    "    # Encode chart figure and tokenize text\n",
    "    image = Image.open(os.path.join(path, image_name)).convert(\"RGB\")\n",
    "    inputs = processor(text=input_text, images=image, return_tensors=\"pt\")\n",
    "    prompt_length = inputs[\"input_ids\"].shape[1]\n",
    "    inputs = {k: v.to(\"cuda\") for k, v in inputs.items()}\n",
    "\n",
    "    # Generate\n",
    "    generate_ids = model.generate(**inputs, num_beams=4, max_new_tokens=512)\n",
    "    output_text = processor.batch_decode(\n",
    "        generate_ids[:, prompt_length:],\n",
    "        skip_special_tokens=True,\n",
    "        clean_up_tokenization_spaces=False,\n",
    "    )[0]\n",
    "    print(output_text)\n",
    "\n",
    "    # plt.imshow(image)\n",
    "    # plt.axis(\"off\")\n",
    "    # plt.show()"
   ]
  },
  {
   "cell_type": "code",
   "execution_count": 18,
   "metadata": {},
   "outputs": [
    {
     "name": "stdout",
     "output_type": "stream",
     "text": [
      "[{'imagename': '30.png', 'label': '50', 'query': 'What was the average ticket price for Nashville Predators games in the 2011/12 season?'}, {'imagename': '30_rot90.png', 'label': '50', 'query': 'What was the average ticket price for Nashville Predators games in the 2011/12 season?'}, {'imagename': '30.png', 'label': '25', 'query': 'How much did the ticket price increase from the 2005/06 season to the 2014/15 season?'}, {'imagename': '30_rot90.png', 'label': '25', 'query': 'How much did the ticket price increase from the 2005/06 season to the 2014/15 season?'}, {'imagename': '30.png', 'label': '2012/13', 'query': 'In which season did the average ticket price first reach 60 U.S. dollars?'}, {'imagename': '30_rot90.png', 'label': '2012/13', 'query': 'In which season did the average ticket price first reach 60 U.S. dollars?'}, {'imagename': '78.png', 'label': 'Singapore', 'query': 'Which country had the highest trade value with India in FY 2019?'}, {'imagename': '78_rot90.png', 'label': 'Singapore', 'query': 'Which country had the highest trade value with India in FY 2019?'}, {'imagename': '78.png', 'label': '22000', 'query': 'What was the approximate trade value with Indonesia in FY 2019?'}, {'imagename': '78_rot90.png', 'label': '22000', 'query': 'What was the approximate trade value with Indonesia in FY 2019?'}, {'imagename': '78.png', 'label': '5', 'query': 'How many countries had a trade value below 10,000 million U.S. dollars in FY 2019?'}, {'imagename': '78_rot90.png', 'label': '5', 'query': 'How many countries had a trade value below 10,000 million U.S. dollars in FY 2019?'}, {'imagename': '255.png', 'label': '2017', 'query': 'In which year did the number of employees first reach 4,500?'}, {'imagename': '255_rot90.png', 'label': '2017', 'query': 'In which year did the number of employees first reach 4,500?'}, {'imagename': '255.png', 'label': '3500', 'query': 'What was the lowest number of employees between 2009 and 2019?'}, {'imagename': '255_rot90.png', 'label': '3500', 'query': 'What was the lowest number of employees between 2009 and 2019?'}, {'imagename': '255.png', 'label': '8', 'query': 'How many years had an employee count above 4,000?'}, {'imagename': '255_rot90.png', 'label': '8', 'query': 'How many years had an employee count above 4,000?'}, {'imagename': '778.png', 'label': '2004/05', 'query': 'In which year was the highest number of recorded crime offences in Scotland?'}, {'imagename': '778_rot90.png', 'label': '2004/05', 'query': 'In which year was the highest number of recorded crime offences in Scotland?'}, {'imagename': '778.png', 'label': '250', 'query': 'What was the approximate number of recorded crime offences in 2019/20?'}, {'imagename': '778_rot90.png', 'label': '250', 'query': 'What was the approximate number of recorded crime offences in 2019/20?'}, {'imagename': '778.png', 'label': '10', 'query': 'How many years had crime offences above 300,000?'}, {'imagename': '778_rot90.png', 'label': '10', 'query': 'How many years had crime offences above 300,000?'}, {'imagename': '3656.png', 'label': 'Palmeiras', 'query': 'Which team had the highest revenue in 2018?'}, {'imagename': '3656_rot90.png', 'label': 'Palmeiras', 'query': 'Which team had the highest revenue in 2018?'}, {'imagename': '3656.png', 'label': '550', 'query': 'What was the approximate revenue of Flamengo in 2018?'}, {'imagename': '3656_rot90.png', 'label': '550', 'query': 'What was the approximate revenue of Flamengo in 2018?'}, {'imagename': '3656.png', 'label': '6', 'query': 'How many teams had revenue above 300 million Brazilian reals in 2018?'}, {'imagename': '3656_rot90.png', 'label': '6', 'query': 'How many teams had revenue above 300 million Brazilian reals in 2018?'}, {'imagename': '3415.png', 'label': '2015', 'query': 'In which year did the number of tourist arrivals first exceed 20 million?'}, {'imagename': '3415_rot90.png', 'label': '2015', 'query': 'In which year did the number of tourist arrivals first exceed 20 million?'}, {'imagename': '3415.png', 'label': '27', 'query': 'What was the approximate number of tourist arrivals in 2019?'}, {'imagename': '3415_rot90.png', 'label': '27', 'query': 'What was the approximate number of tourist arrivals in 2019?'}, {'imagename': '3415.png', 'label': '7', 'query': 'How many years had tourist arrivals below 15 million?'}, {'imagename': '3415_rot90.png', 'label': '7', 'query': 'How many years had tourist arrivals below 15 million?'}, {'imagename': '3839.png', 'label': '2018', 'query': 'In which year did identity fraud incidents in Canada exceed 15,000?'}, {'imagename': '3839_rot90.png', 'label': '2018', 'query': 'In which year did identity fraud incidents in Canada exceed 15,000?'}, {'imagename': '3839.png', 'label': '0', 'query': 'What was the approximate number of identity fraud incidents in 2008?'}, {'imagename': '3839_rot90.png', 'label': '0', 'query': 'What was the approximate number of identity fraud incidents in 2008?'}, {'imagename': '3839.png', 'label': '6', 'query': 'How many years had identity fraud incidents below 10,000?'}, {'imagename': '3839_rot90.png', 'label': '6', 'query': 'How many years had identity fraud incidents below 10,000?'}, {'imagename': '3998.png', 'label': '2007-2008', 'query': 'In which year did Saskatchewan have the highest net number of interprovincial migrants?'}, {'imagename': '3998_rot90.png', 'label': '2007-2008', 'query': 'In which year did Saskatchewan have the highest net number of interprovincial migrants?'}, {'imagename': '3998.png', 'label': '-11000', 'query': 'What was the approximate net number of interprovincial migrants in 2019/2020?'}, {'imagename': '3998_rot90.png', 'label': '-11000', 'query': 'What was the approximate net number of interprovincial migrants in 2019/2020?'}, {'imagename': '3998.png', 'label': '13', 'query': 'How many years had a net negative number of interprovincial migrants?'}, {'imagename': '3998_rot90.png', 'label': '13', 'query': 'How many years had a net negative number of interprovincial migrants?'}, {'imagename': '6457.png', 'label': '2016', 'query': 'In which year did the net sales of footwear exceed 1,500 million U.S. dollars?'}, {'imagename': '6457_rot90.png', 'label': '2016', 'query': 'In which year did the net sales of footwear exceed 1,500 million U.S. dollars?'}, {'imagename': '6457.png', 'label': '1800', 'query': 'What was the approximate net sales value of footwear in 2019?'}, {'imagename': '6457_rot90.png', 'label': '1800', 'query': 'What was the approximate net sales value of footwear in 2019?'}, {'imagename': '6457.png', 'label': '3', 'query': 'How many years had net sales of footwear below 1,000 million U.S. dollars?'}, {'imagename': '6457_rot90.png', 'label': '3', 'query': 'How many years had net sales of footwear below 1,000 million U.S. dollars?'}, {'imagename': '1821.png', 'label': 'Humira', 'query': 'Which drug had the highest PMPY spending in 2016?'}, {'imagename': '1821_rot90.png', 'label': 'Humira', 'query': 'Which drug had the highest PMPY spending in 2016?'}, {'imagename': '1821.png', 'label': '27', 'query': 'What was the approximate PMPY spending on Enbrel in 2016?'}, {'imagename': '1821_rot90.png', 'label': '27', 'query': 'What was the approximate PMPY spending on Enbrel in 2016?'}, {'imagename': '1821.png', 'label': '5', 'query': 'How many drugs had a PMPY spending below 10 U.S. dollars in 2016?'}, {'imagename': '1821_rot90.png', 'label': '5', 'query': 'How many drugs had a PMPY spending below 10 U.S. dollars in 2016?'}]\n"
     ]
    }
   ],
   "source": [
    "# Define the path to your txt file\n",
    "file_path = \"ann.txt\"\n",
    "\n",
    "# Initialize an empty list to store the dictionaries\n",
    "data_list = []\n",
    "\n",
    "# Open and read the file\n",
    "with open(file_path, \"r\", encoding=\"utf-8\") as file:\n",
    "    # Initialize an empty dictionary to temporarily store each item's data\n",
    "    current_dict = {}\n",
    "    query_lines = []  # List to accumulate query lines\n",
    "\n",
    "    # Loop through each line in the file\n",
    "    for line in file:\n",
    "        # Remove leading/trailing whitespace\n",
    "        line = line.strip()\n",
    "\n",
    "        if line.startswith(\"- imagename:\"):\n",
    "            # Append any previous item to the list\n",
    "            if current_dict:\n",
    "                # Join the accumulated query lines\n",
    "                current_dict[\"query\"] = \" \".join(query_lines).strip()\n",
    "                data_list.append(current_dict)\n",
    "\n",
    "            # Start a new dictionary for the next item\n",
    "            current_dict = {\"imagename\": line.split(\": \")[1].strip()}\n",
    "            query_lines = []  # Reset the query lines list\n",
    "\n",
    "        elif line.startswith(\"label:\"):\n",
    "            current_dict[\"label\"] = line.split(\": \")[1].strip().strip(\"'\")\n",
    "\n",
    "        elif line.startswith(\"query:\"):\n",
    "            # Start a new query line accumulation, remove \"query:\" part\n",
    "            query_lines = [line.split(\": \", 1)[1].strip()]\n",
    "\n",
    "        else:\n",
    "            # For continuation of a query across multiple lines\n",
    "            query_lines.append(line)\n",
    "\n",
    "    # Append the last dictionary if it exists\n",
    "    if current_dict:\n",
    "        current_dict[\"query\"] = \" \".join(query_lines).strip()\n",
    "        data_list.append(current_dict)\n",
    "\n",
    "# Print the list of dictionaries\n",
    "print(data_list)"
   ]
  },
  {
   "cell_type": "code",
   "execution_count": 20,
   "metadata": {},
   "outputs": [
    {
     "name": "stdout",
     "output_type": "stream",
     "text": [
      "The average ticket price for Nashville Predators games in the 2011/12 season was around 50 US dollars.\n",
      "The average ticket price for Nashville Predators games in the 2011/12 season was approximately 50 US dollars.\n",
      "The average ticket price increased by approximately 10 US dollars from the 2005/06 season to the 2014/15 season.\n",
      "The ticket price increased by approximately 15 dollars from the 2005/06 season to the 2014/15 season.\n",
      "The average ticket price first reached 60 U.S. dollars in the 2013-2014 season.\n",
      "The average ticket price first reached 60 U.S. dollars in the 2013/14 season.\n",
      "Singapore\n",
      "Singapore\n",
      "Approximately 22,000 million U.S. dollars.\n",
      "The approximate trade value with Indonesia in FY 2019 was 22,000 million U.S. dollars.\n",
      "7\n",
      "4 countries had a trade value below 10,000 million U.S. dollars in FY 2019: Myanmar, Philippines, Vietnam, and Cambodia.\n",
      "2014\n",
      "The number of employees first reached 4,500 in 2015.\n",
      "The lowest number of employees was around 3,500 in 2009 and 2010.\n",
      "Approximately 2,000 employees.\n",
      "There were only two years with an employee count above 4,000, 2018 and 2019.\n",
      "There were only a few years with an employee count above 4,000.\n",
      "2004/05\n",
      "2009/10\n",
      "The approximate number of recorded crime offences in 2019/20 was 240,000.\n",
      "The approximate number of recorded crime offences in 2019/20 was 230,000.\n",
      "Three years had crime offences above 300,000: 2002/03, 2003/04, and 2004/05.\n",
      "Three years, 2010/11, 2011/12, and 2012/13 had crime offences above 300,000.\n",
      "Palmeiras had the highest revenue in 2018.\n",
      "Palmeiras\n",
      "Around 300 million Brazilian reals.\n",
      "Around 550 million Brazilian reals\n",
      "4\n",
      "3 teams had revenue above 300 million Brazilian reals in 2018: Flamengo, Fluminense, and Palmeiras.\n",
      "2015.\n",
      "2015.\n",
      "Approximately 28 million.\n",
      "Approximately 11 million.\n",
      "The years 2006, 2007, 2008, and 2009 had tourist arrivals below 15 million.\n",
      "The years with tourist arrivals below 15 million were 2011, 2012, 2013, 2014, 2015, and 2016.\n",
      "2016\n",
      "2017\n",
      "Approximately 1,000.\n",
      "Approximately 15,000\n",
      "The years 2008, 2009, and 2010 had identity fraud incidents below 10,000.\n",
      "Identity fraud incidents were below 10,000 in the years 2011, 2012, 2013, 2014, 2015, 2016, 2017, 2018, and 2019.\n",
      "2008\n",
      "2019-2020\n",
      "The net number of interprovincial migrants in 2019/2020 was approximately -10,000.\n",
      "The approximate net number of interprovincial migrants in 2019/2020 was around -10,000.\n",
      "The years with a net negative number of interprovincial migrants were 2000-2001, 2002-2003, 2003-2004, 2004-2005, 2005-2006, 2006-2007, 2007-2008, 2008-2009, 2009-2010, 2010-2011, 2011-2012, 2012-2013, 2013-2014, 2014-2015, 2015-2016, 2016-2017, 2017-2018, 2018-2019, and 2019-2020.\n",
      "There were 10 years with a net negative number of interprovincial migrants: 2001-2002, 2003-2004, 2004-2005, 2005-2006, 2006-2007, 2007-2008, 2008-2009, 2009-2010, 2010-2011, 2011-2012, 2012-2013, 2013-2014, 2014-2015, 2015-2016, 2016-2017, 2017-2018, 2018-2019, 2019-2020.\n",
      "2015.\n",
      "2014\n",
      "The approximate net sales value of footwear in 2019 was 1.9 million U.S. dollars.\n",
      "The approximate net sales value of footwear in 2019 was 1,000 million U.S. dollars.\n",
      "The net sales of footwear were below 1,000 million U.S. dollars in the years 2008, 2009, 2010, 2011, 2012, 2013, 2014, and 2015.\n",
      "Three years, 2017, 2018, and 2019.\n",
      "Methamphetamine had the highest PMPY spending in 2016.\n",
      "Humira Pen\n",
      "Enbrel had a PMPY spending of approximately 25 US dollars in 2016.\n",
      "The approximate PMPY spending on Enbrel in 2016 was around 28 US dollars.\n",
      "6\n",
      "6\n"
     ]
    }
   ],
   "source": [
    "input_text = \"Make a table that corresponds to this chart.\"\n",
    "input_text = \"Can you extract the data points from the chart in the image and convert them into a JSON format? : {\"\n",
    "input_text = \"What was the average ticket price for Nashville Predators games in the 2011/12 season?\"\n",
    "# input_text = \"convert the top of chart to a table\"\n",
    "for data in data_list:\n",
    "    image_name = data[\"imagename\"]\n",
    "    label = data[\"label\"]\n",
    "    query = data[\"query\"]\n",
    "    inference_plot2(model, processor, query, data_path, image_name)"
   ]
  },
  {
   "cell_type": "code",
   "execution_count": null,
   "metadata": {},
   "outputs": [],
   "source": [
    "def inference_2(model, processor, input_text, data_path, file_name):\n",
    "    # Encode chart figure and tokenize text\n",
    "    data_path = \"/home/mingi/data/vistext/data/test_images\"\n",
    "\n",
    "    ver_image = Image.open(os.path.join(data_path, \"vertical\", file_name)).convert(\n",
    "        \"RGB\"\n",
    "    )\n",
    "    ver_inputs = processor(text=input_text, images=ver_image, return_tensors=\"pt\")\n",
    "    ver_prompt_length = ver_inputs[\"input_ids\"].shape[1]\n",
    "    ver_inputs = {k: v.to(\"cuda\") for k, v in ver_inputs.items()}\n",
    "\n",
    "    hor_image = Image.open(os.path.join(data_path, \"horizontal\", file_name)).convert(\n",
    "        \"RGB\"\n",
    "    )\n",
    "    hor_inputs = processor(text=input_text, images=hor_image, return_tensors=\"pt\")\n",
    "    hor_prompt_length = hor_inputs[\"input_ids\"].shape[1]\n",
    "    hor_inputs = {k: v.to(\"cuda\") for k, v in hor_inputs.items()}\n",
    "\n",
    "    # Generate\n",
    "    generate_ids = model.generate(**ver_inputs, num_beams=4, max_new_tokens=512)\n",
    "    ver_output_text = processor.batch_decode(\n",
    "        generate_ids[:, ver_prompt_length:],\n",
    "        skip_special_tokens=True,\n",
    "        clean_up_tokenization_spaces=False,\n",
    "    )[0]\n",
    "    print(ver_output_text)\n",
    "\n",
    "    generate_ids = model.generate(**hor_inputs, num_beams=4, max_new_tokens=512)\n",
    "    hor_output_text = processor.batch_decode(\n",
    "        generate_ids[:, hor_prompt_length:],\n",
    "        skip_special_tokens=True,\n",
    "        clean_up_tokenization_spaces=False,\n",
    "    )[0]\n",
    "    print(hor_output_text)\n",
    "\n",
    "    fig, axes = plt.subplots(1, 2, figsize=(10, 5))\n",
    "\n",
    "    axes[0].imshow(ver_image)\n",
    "    axes[0].axis(\"off\")\n",
    "    axes[1].imshow(hor_image)\n",
    "    axes[1].axis(\"off\")\n",
    "\n",
    "    plt.show()"
   ]
  },
  {
   "cell_type": "code",
   "execution_count": null,
   "metadata": {},
   "outputs": [
    {
     "data": {
      "text/plain": [
       "'7411.png'"
      ]
     },
     "execution_count": 14,
     "metadata": {},
     "output_type": "execute_result"
    }
   ],
   "source": [
    "file_names[11]"
   ]
  },
  {
   "cell_type": "code",
   "execution_count": 6,
   "metadata": {},
   "outputs": [
    {
     "ename": "NameError",
     "evalue": "name 'inference_2' is not defined",
     "output_type": "error",
     "traceback": [
      "\u001b[0;31m---------------------------------------------------------------------------\u001b[0m",
      "\u001b[0;31mNameError\u001b[0m                                 Traceback (most recent call last)",
      "Cell \u001b[0;32mIn[6], line 9\u001b[0m\n\u001b[1;32m      7\u001b[0m \u001b[38;5;28;01mfor\u001b[39;00m i, file_name \u001b[38;5;129;01min\u001b[39;00m \u001b[38;5;28menumerate\u001b[39m(file_names):\n\u001b[1;32m      8\u001b[0m     file_name \u001b[38;5;241m=\u001b[39m file_names[\u001b[38;5;241m500\u001b[39m]\n\u001b[0;32m----> 9\u001b[0m     \u001b[43minference_2\u001b[49m(model, processor, input_text, data_path, file_name)\n\u001b[1;32m     10\u001b[0m     \u001b[38;5;28;01mif\u001b[39;00m i \u001b[38;5;241m==\u001b[39m \u001b[38;5;241m0\u001b[39m:\n\u001b[1;32m     11\u001b[0m         \u001b[38;5;28;01mbreak\u001b[39;00m\n",
      "\u001b[0;31mNameError\u001b[0m: name 'inference_2' is not defined"
     ]
    }
   ],
   "source": [
    "data_path = \"/home/mingi/data/vistext/data/test_images/vertical\"\n",
    "input_text = \"What was the average ticket price for Nashville Predators games in the 2011/12 season?\"\n",
    "input_text = \"Values in the chart: \"\n",
    "# input_text = \"Make a table that corresponds to this chart.\"\n",
    "file_names = os.listdir(data_path)\n",
    "# input_text = \"convert the top of chart to a table\"\n",
    "for i, file_name in enumerate(file_names):\n",
    "    file_name = file_names[500]\n",
    "    inference_2(model, processor, input_text, data_path, file_name)\n",
    "    if i == 0:\n",
    "        break"
   ]
  }
 ],
 "metadata": {
  "kernelspec": {
   "display_name": "tinyllava_factory",
   "language": "python",
   "name": "python3"
  },
  "language_info": {
   "codemirror_mode": {
    "name": "ipython",
    "version": 3
   },
   "file_extension": ".py",
   "mimetype": "text/x-python",
   "name": "python",
   "nbconvert_exporter": "python",
   "pygments_lexer": "ipython3",
   "version": "3.10.14"
  }
 },
 "nbformat": 4,
 "nbformat_minor": 2
}
